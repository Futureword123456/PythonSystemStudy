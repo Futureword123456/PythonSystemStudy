{
 "cells": [
  {
   "cell_type": "code",
   "execution_count": 4,
   "metadata": {
    "collapsed": true,
    "pycharm": {
     "is_executing": false
    }
   },
   "outputs": [
    {
     "data": {
      "text/plain": "      (701)A发表论文管理     Unnamed: 1 Unnamed: 2 Unnamed: 3 Unnamed: 4  \\\n0             职工编号       所在单位(名称)       职工姓名   工作部门(名称)   论文分类(名称)   \n1           200592             退休        艾天成        农学院        NaN   \n2           400146  医学部|健康医学院\\护理系         敖薪        医学部        NaN   \n3           400146  医学部|健康医学院\\护理系         敖薪        医学部        NaN   \n4           400146  医学部|健康医学院\\护理系         敖薪        医学部        NaN   \n...            ...            ...        ...        ...        ...   \n23852       300175   期刊社|学报社科版编辑部        韩玺吾        期刊社  国内期刊（非会议）   \n23853       519032   人文与新媒体学院|中文系         汤芳   人文与新媒体学院  国外期刊（非会议）   \n23854       300259     教体学院|体育教育系         杨彬       教体学院  国内期刊（非会议）   \n23855       300554     计科学院|软件工程系       王宏伟C       计科学院  国外期刊（非会议）   \n23856       200344    外语学院|公共外语二部         邓鹏       外语学院  国内期刊（非会议）   \n\n                                              Unnamed: 5  \\\n0                                                   论文名称   \n1      Impact of fertilization on cotton aphid popula...   \n2                                    呼吸机治疗中两种加热湿化方法的效果研究   \n3                            构建《护理伦理学》课程自我体验实践教学模式的研究与实践   \n4                                ICU病人强化胰岛素治疗中关键问题的分析和对策   \n...                                                  ...   \n23852                                   普通社科学术期刊面临的困境与出路   \n23853  Nostalgia and Exile in the Diasporic Literatur...   \n23854          信息技术背景下篮球教学训练效果——评《高校公共体育理论课网络教学系统的分析与设计》   \n23855  ST-ETM: A Spatial-Temporal Emergency Topic Mod...   \n23856                                    一种充满哲学思维的英语教学方式   \n\n                  Unnamed: 6    Unnamed: 7  Unnamed: 8       Unnamed: 9  ...  \\\n0                  刊物名称/会议名称      刊物类别(名称)         CN号            ISSN号  ...   \n1      Ecological Complexity          一般期刊         NaN              NaN  ...   \n2                     护士进修杂志          一般期刊         NaN              NaN  ...   \n3                   中国实用护理杂志          核心期刊         NaN              NaN  ...   \n4                       全科护理          一般期刊         NaN              NaN  ...   \n...                      ...           ...         ...              ...  ...   \n23852            长江大学学报（社科版）  一般期刊（长江大学学报）   42-1740/C        1673-1395  ...   \n23853         Taiwan Insight          国外期刊         NaN  CC BY-NC-ND 2.0  ...   \n23854                 中国科技论文          核心期刊   10-1033/N        2095-2783  ...   \n23855            IEEE Access          国外期刊         NaN        2169-3536  ...   \n23856                   湖北教育          一般期刊  42-1033/G4        1003-4390  ...   \n\n      Unnamed: 19 Unnamed: 20 Unnamed: 21 Unnamed: 22 Unnamed: 23 Unnamed: 24  \\\n0          第一作者单位      通信作者单位    审核状态(名称)        审核时间    考核状态(名称)        考核时间   \n1             NaN         NaN      学校审核通过  2010-12-29   参加考核与绩效统计  2010-12-31   \n2             NaN         NaN      学校审核通过  2010-12-29   参加考核与绩效统计  2010-12-31   \n3             NaN         NaN      学校审核通过  2010-12-29   参加考核与绩效统计  2010-12-31   \n4             NaN         NaN      学校审核通过  2010-12-29   参加考核与绩效统计  2010-12-31   \n...           ...         ...         ...         ...         ...         ...   \n23852         NaN         NaN         未审核  2021-01-01   参加考核与绩效统计  2020-12-31   \n23853         NaN         NaN         未审核  2021-01-03   参加考核与绩效统计  2021-01-25   \n23854         NaN         NaN         未审核  2020-12-28   参加考核与绩效统计  2021-12-31   \n23855      华北科技学院        长江大学         未审核  2021-01-29  参加考核不作绩效统计  2020-12-30   \n23856         NaN         NaN         未审核  2021-03-23   参加考核与绩效统计  2021-12-31   \n\n      Unnamed: 25 Unnamed: 26              Unnamed: 27 Unnamed: 28  \n0          排名分配系数       所得工作量                     计算过程          备注  \n1               1           5  10*刊物类别*排名分配系数=10*0.5*1         NaN  \n2               1           5  10*刊物类别*排名分配系数=10*0.5*1         NaN  \n3               1          10    10*刊物类别*排名分配系数=10*1*1         NaN  \n4               1           5  10*刊物类别*排名分配系数=10*0.5*1         NaN  \n...           ...         ...                      ...         ...  \n23852           1          10             10*刊物类别=10*1         NaN  \n23853           1          10    10*刊物类别*排名分配系数=10*1*1         NaN  \n23854           1          10    10*刊物类别*排名分配系数=10*1*1         NaN  \n23855           1          15           10*刊物类别=10*1.5         NaN  \n23856           1         NaN                      NaN         NaN  \n\n[23857 rows x 29 columns]",
      "text/html": "<div>\n<style scoped>\n    .dataframe tbody tr th:only-of-type {\n        vertical-align: middle;\n    }\n\n    .dataframe tbody tr th {\n        vertical-align: top;\n    }\n\n    .dataframe thead th {\n        text-align: right;\n    }\n</style>\n<table border=\"1\" class=\"dataframe\">\n  <thead>\n    <tr style=\"text-align: right;\">\n      <th></th>\n      <th>(701)A发表论文管理</th>\n      <th>Unnamed: 1</th>\n      <th>Unnamed: 2</th>\n      <th>Unnamed: 3</th>\n      <th>Unnamed: 4</th>\n      <th>Unnamed: 5</th>\n      <th>Unnamed: 6</th>\n      <th>Unnamed: 7</th>\n      <th>Unnamed: 8</th>\n      <th>Unnamed: 9</th>\n      <th>...</th>\n      <th>Unnamed: 19</th>\n      <th>Unnamed: 20</th>\n      <th>Unnamed: 21</th>\n      <th>Unnamed: 22</th>\n      <th>Unnamed: 23</th>\n      <th>Unnamed: 24</th>\n      <th>Unnamed: 25</th>\n      <th>Unnamed: 26</th>\n      <th>Unnamed: 27</th>\n      <th>Unnamed: 28</th>\n    </tr>\n  </thead>\n  <tbody>\n    <tr>\n      <th>0</th>\n      <td>职工编号</td>\n      <td>所在单位(名称)</td>\n      <td>职工姓名</td>\n      <td>工作部门(名称)</td>\n      <td>论文分类(名称)</td>\n      <td>论文名称</td>\n      <td>刊物名称/会议名称</td>\n      <td>刊物类别(名称)</td>\n      <td>CN号</td>\n      <td>ISSN号</td>\n      <td>...</td>\n      <td>第一作者单位</td>\n      <td>通信作者单位</td>\n      <td>审核状态(名称)</td>\n      <td>审核时间</td>\n      <td>考核状态(名称)</td>\n      <td>考核时间</td>\n      <td>排名分配系数</td>\n      <td>所得工作量</td>\n      <td>计算过程</td>\n      <td>备注</td>\n    </tr>\n    <tr>\n      <th>1</th>\n      <td>200592</td>\n      <td>退休</td>\n      <td>艾天成</td>\n      <td>农学院</td>\n      <td>NaN</td>\n      <td>Impact of fertilization on cotton aphid popula...</td>\n      <td>Ecological Complexity</td>\n      <td>一般期刊</td>\n      <td>NaN</td>\n      <td>NaN</td>\n      <td>...</td>\n      <td>NaN</td>\n      <td>NaN</td>\n      <td>学校审核通过</td>\n      <td>2010-12-29</td>\n      <td>参加考核与绩效统计</td>\n      <td>2010-12-31</td>\n      <td>1</td>\n      <td>5</td>\n      <td>10*刊物类别*排名分配系数=10*0.5*1</td>\n      <td>NaN</td>\n    </tr>\n    <tr>\n      <th>2</th>\n      <td>400146</td>\n      <td>医学部|健康医学院\\护理系</td>\n      <td>敖薪</td>\n      <td>医学部</td>\n      <td>NaN</td>\n      <td>呼吸机治疗中两种加热湿化方法的效果研究</td>\n      <td>护士进修杂志</td>\n      <td>一般期刊</td>\n      <td>NaN</td>\n      <td>NaN</td>\n      <td>...</td>\n      <td>NaN</td>\n      <td>NaN</td>\n      <td>学校审核通过</td>\n      <td>2010-12-29</td>\n      <td>参加考核与绩效统计</td>\n      <td>2010-12-31</td>\n      <td>1</td>\n      <td>5</td>\n      <td>10*刊物类别*排名分配系数=10*0.5*1</td>\n      <td>NaN</td>\n    </tr>\n    <tr>\n      <th>3</th>\n      <td>400146</td>\n      <td>医学部|健康医学院\\护理系</td>\n      <td>敖薪</td>\n      <td>医学部</td>\n      <td>NaN</td>\n      <td>构建《护理伦理学》课程自我体验实践教学模式的研究与实践</td>\n      <td>中国实用护理杂志</td>\n      <td>核心期刊</td>\n      <td>NaN</td>\n      <td>NaN</td>\n      <td>...</td>\n      <td>NaN</td>\n      <td>NaN</td>\n      <td>学校审核通过</td>\n      <td>2010-12-29</td>\n      <td>参加考核与绩效统计</td>\n      <td>2010-12-31</td>\n      <td>1</td>\n      <td>10</td>\n      <td>10*刊物类别*排名分配系数=10*1*1</td>\n      <td>NaN</td>\n    </tr>\n    <tr>\n      <th>4</th>\n      <td>400146</td>\n      <td>医学部|健康医学院\\护理系</td>\n      <td>敖薪</td>\n      <td>医学部</td>\n      <td>NaN</td>\n      <td>ICU病人强化胰岛素治疗中关键问题的分析和对策</td>\n      <td>全科护理</td>\n      <td>一般期刊</td>\n      <td>NaN</td>\n      <td>NaN</td>\n      <td>...</td>\n      <td>NaN</td>\n      <td>NaN</td>\n      <td>学校审核通过</td>\n      <td>2010-12-29</td>\n      <td>参加考核与绩效统计</td>\n      <td>2010-12-31</td>\n      <td>1</td>\n      <td>5</td>\n      <td>10*刊物类别*排名分配系数=10*0.5*1</td>\n      <td>NaN</td>\n    </tr>\n    <tr>\n      <th>...</th>\n      <td>...</td>\n      <td>...</td>\n      <td>...</td>\n      <td>...</td>\n      <td>...</td>\n      <td>...</td>\n      <td>...</td>\n      <td>...</td>\n      <td>...</td>\n      <td>...</td>\n      <td>...</td>\n      <td>...</td>\n      <td>...</td>\n      <td>...</td>\n      <td>...</td>\n      <td>...</td>\n      <td>...</td>\n      <td>...</td>\n      <td>...</td>\n      <td>...</td>\n      <td>...</td>\n    </tr>\n    <tr>\n      <th>23852</th>\n      <td>300175</td>\n      <td>期刊社|学报社科版编辑部</td>\n      <td>韩玺吾</td>\n      <td>期刊社</td>\n      <td>国内期刊（非会议）</td>\n      <td>普通社科学术期刊面临的困境与出路</td>\n      <td>长江大学学报（社科版）</td>\n      <td>一般期刊（长江大学学报）</td>\n      <td>42-1740/C</td>\n      <td>1673-1395</td>\n      <td>...</td>\n      <td>NaN</td>\n      <td>NaN</td>\n      <td>未审核</td>\n      <td>2021-01-01</td>\n      <td>参加考核与绩效统计</td>\n      <td>2020-12-31</td>\n      <td>1</td>\n      <td>10</td>\n      <td>10*刊物类别=10*1</td>\n      <td>NaN</td>\n    </tr>\n    <tr>\n      <th>23853</th>\n      <td>519032</td>\n      <td>人文与新媒体学院|中文系</td>\n      <td>汤芳</td>\n      <td>人文与新媒体学院</td>\n      <td>国外期刊（非会议）</td>\n      <td>Nostalgia and Exile in the Diasporic Literatur...</td>\n      <td>Taiwan Insight</td>\n      <td>国外期刊</td>\n      <td>NaN</td>\n      <td>CC BY-NC-ND 2.0</td>\n      <td>...</td>\n      <td>NaN</td>\n      <td>NaN</td>\n      <td>未审核</td>\n      <td>2021-01-03</td>\n      <td>参加考核与绩效统计</td>\n      <td>2021-01-25</td>\n      <td>1</td>\n      <td>10</td>\n      <td>10*刊物类别*排名分配系数=10*1*1</td>\n      <td>NaN</td>\n    </tr>\n    <tr>\n      <th>23854</th>\n      <td>300259</td>\n      <td>教体学院|体育教育系</td>\n      <td>杨彬</td>\n      <td>教体学院</td>\n      <td>国内期刊（非会议）</td>\n      <td>信息技术背景下篮球教学训练效果——评《高校公共体育理论课网络教学系统的分析与设计》</td>\n      <td>中国科技论文</td>\n      <td>核心期刊</td>\n      <td>10-1033/N</td>\n      <td>2095-2783</td>\n      <td>...</td>\n      <td>NaN</td>\n      <td>NaN</td>\n      <td>未审核</td>\n      <td>2020-12-28</td>\n      <td>参加考核与绩效统计</td>\n      <td>2021-12-31</td>\n      <td>1</td>\n      <td>10</td>\n      <td>10*刊物类别*排名分配系数=10*1*1</td>\n      <td>NaN</td>\n    </tr>\n    <tr>\n      <th>23855</th>\n      <td>300554</td>\n      <td>计科学院|软件工程系</td>\n      <td>王宏伟C</td>\n      <td>计科学院</td>\n      <td>国外期刊（非会议）</td>\n      <td>ST-ETM: A Spatial-Temporal Emergency Topic Mod...</td>\n      <td>IEEE Access</td>\n      <td>国外期刊</td>\n      <td>NaN</td>\n      <td>2169-3536</td>\n      <td>...</td>\n      <td>华北科技学院</td>\n      <td>长江大学</td>\n      <td>未审核</td>\n      <td>2021-01-29</td>\n      <td>参加考核不作绩效统计</td>\n      <td>2020-12-30</td>\n      <td>1</td>\n      <td>15</td>\n      <td>10*刊物类别=10*1.5</td>\n      <td>NaN</td>\n    </tr>\n    <tr>\n      <th>23856</th>\n      <td>200344</td>\n      <td>外语学院|公共外语二部</td>\n      <td>邓鹏</td>\n      <td>外语学院</td>\n      <td>国内期刊（非会议）</td>\n      <td>一种充满哲学思维的英语教学方式</td>\n      <td>湖北教育</td>\n      <td>一般期刊</td>\n      <td>42-1033/G4</td>\n      <td>1003-4390</td>\n      <td>...</td>\n      <td>NaN</td>\n      <td>NaN</td>\n      <td>未审核</td>\n      <td>2021-03-23</td>\n      <td>参加考核与绩效统计</td>\n      <td>2021-12-31</td>\n      <td>1</td>\n      <td>NaN</td>\n      <td>NaN</td>\n      <td>NaN</td>\n    </tr>\n  </tbody>\n</table>\n<p>23857 rows × 29 columns</p>\n</div>"
     },
     "metadata": {},
     "output_type": "execute_result",
     "execution_count": 4
    }
   ],
   "source": [
    "import pandas as pd\n",
    "\n",
    "fileNameStr = '../发表论文管理.xls'  # 读取Ecxcel数据\n",
    "xls = pd.ExcelFile(fileNameStr)\n",
    "salesDf = xls.parse('发表论文管理', dtype='object')\n",
    "salesDf.loc()\n",
    "\n"
   ]
  },
  {
   "cell_type": "code",
   "execution_count": 0,
   "outputs": [],
   "source": [
    "\n"
   ],
   "metadata": {
    "collapsed": false,
    "pycharm": {
     "name": "#%%\n",
     "is_executing": false
    }
   }
  }
 ],
 "metadata": {
  "kernelspec": {
   "display_name": "Python 3",
   "language": "python",
   "name": "python3"
  },
  "language_info": {
   "codemirror_mode": {
    "name": "ipython",
    "version": 2
   },
   "file_extension": ".py",
   "mimetype": "text/x-python",
   "name": "python",
   "nbconvert_exporter": "python",
   "pygments_lexer": "ipython2",
   "version": "2.7.6"
  },
  "pycharm": {
   "stem_cell": {
    "cell_type": "raw",
    "source": [],
    "metadata": {
     "collapsed": false
    }
   }
  }
 },
 "nbformat": 4,
 "nbformat_minor": 0
}